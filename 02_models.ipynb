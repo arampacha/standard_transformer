{
 "cells": [
  {
   "cell_type": "code",
   "execution_count": null,
   "metadata": {},
   "outputs": [],
   "source": [
    "#default_exp models"
   ]
  },
  {
   "cell_type": "code",
   "execution_count": null,
   "metadata": {},
   "outputs": [],
   "source": [
    "#hide\n",
    "from nbdev.showdoc import *"
   ]
  },
  {
   "cell_type": "code",
   "execution_count": null,
   "metadata": {},
   "outputs": [],
   "source": [
    "%load_ext autoreload\n",
    "%autoreload 2"
   ]
  },
  {
   "cell_type": "code",
   "execution_count": null,
   "metadata": {},
   "outputs": [],
   "source": [
    "#export\n",
    "import torch\n",
    "from torch import nn, einsum\n",
    "import torch.nn.functional as F\n",
    "from functools import partial, reduce\n",
    "from inspect import isfunction\n",
    "\n",
    "from einops import rearrange, repeat\n",
    "\n",
    "from standard_transformer.layers import *"
   ]
  },
  {
   "cell_type": "markdown",
   "metadata": {},
   "source": [
    "# Models"
   ]
  },
  {
   "cell_type": "markdown",
   "metadata": {},
   "source": [
    "## Helpers"
   ]
  },
  {
   "cell_type": "code",
   "execution_count": null,
   "metadata": {},
   "outputs": [],
   "source": [
    "#export\n",
    "# generative helpers\n",
    "# credit https://github.com/huggingface/transformers/blob/a0c62d249303a68f5336e3f9a96ecf9241d7abbe/src/transformers/generation_logits_process.py\n",
    "def top_p_filter(logits, top_p=0.9):\n",
    "    sorted_logits, sorted_indices = torch.sort(logits, descending=True)\n",
    "    cum_probs = torch.cumsum(F.softmax(sorted_logits, dim=-1), dim=-1)\n",
    "\n",
    "    sorted_indices_to_remove = cum_probs > top_p\n",
    "    sorted_indices_to_remove[..., 1:] = sorted_indices_to_remove[..., :-1].clone()\n",
    "    sorted_indices_to_remove[..., 0] = 0\n",
    "    # if min_tokens_to_keep > 1:\n",
    "    #         # Keep at least min_tokens_to_keep (set to min_tokens_to_keep-1 because we add the first one below)\n",
    "    #         sorted_indices_to_remove[..., : min_tokens_to_keep - 1] = 0\n",
    "    indices_to_remove = sorted_indices_to_remove.scatter(1, sorted_indices, sorted_indices_to_remove)\n",
    "    logits[indices_to_remove] = float('-inf')\n",
    "    return logits\n",
    "\n",
    "def top_k_filter(logits, top_k=20):\n",
    "    indices_to_remove = logits < torch.topk(logits, top_k)[0][..., -1, None]\n",
    "    logits[indices_to_remove] = float('-inf')\n",
    "    return logits\n",
    "\n",
    "sampler = {\n",
    "    'top_k':top_k_filter,\n",
    "    'top_p':top_p_filter,\n",
    "    'gready':lambda x: x.argmax(-1)\n",
    "}"
   ]
  },
  {
   "cell_type": "code",
   "execution_count": null,
   "metadata": {},
   "outputs": [],
   "source": [
    "#export\n",
    "# axial position helpers (subjected to review)\n",
    "def get_axial_dims(dim, n):\n",
    "    res = (dim//n, )*(n-1)\n",
    "    res += (dim-sum(res), )\n",
    "    return res"
   ]
  },
  {
   "cell_type": "markdown",
   "metadata": {},
   "source": [
    "## Mixin"
   ]
  },
  {
   "cell_type": "code",
   "execution_count": null,
   "metadata": {},
   "outputs": [],
   "source": [
    "#export\n",
    "class LMMixin:\n",
    "    #TODO maybe refactor\n",
    "    @torch.no_grad()\n",
    "    def generate(self, inp,\n",
    "                max_len=50,\n",
    "                temperature=1.,\n",
    "                method = 'top_k',\n",
    "                top_k = 20,\n",
    "                top_p = 0.9,\n",
    "                early_stopping=False, #need eos_idx to work\n",
    "                eos_idx=None):\n",
    "        self.to(inp.device) #TODO test for potential problems\n",
    "        self.eval()\n",
    "        thresh = top_k if method=='top_k' else top_p\n",
    "        sampler = _sampler[method]\n",
    "        inp = expand_dim1(inp)\n",
    "        b, t = inp.shape\n",
    "        out = inp\n",
    "        for _ in range(max_len):\n",
    "            x = out[:, -self.max_seq_len:]\n",
    "\n",
    "            logits = self(x)[:, -1, :]\n",
    "            if method == 'greedy':\n",
    "                sample = sampler(logits)\n",
    "            else:\n",
    "                filtered_logits = sampler(logits)\n",
    "                probs = F.softmax(filtered_logits / temperature, dim=-1)\n",
    "                sample = torch.multinomial(probs, 1)\n",
    "\n",
    "            out = torch.cat((out, sample), dim=-1)\n",
    "\n",
    "            if early_stopping and (sample == eos_idx).all():\n",
    "                break\n",
    "        # out = out[:, t:]\n",
    "        return out\n",
    "\n",
    "    def store_attention(self, layer_ids=None):\n",
    "        #defaults to storing attention for all layers\n",
    "        layer_ids = default(layer_ids, list(range(self.n_layers)))\n",
    "        for module in self.children():\n",
    "            if isinstance(module, (TransformerEncoder, TransformerDecoder)):\n",
    "                for i, l in enumerate(module.layers):\n",
    "                    if i in layer_ids:\n",
    "                        for m in l.modules():\n",
    "                            if isinstance(m, (ScaledDotProdAttention)):\n",
    "                                m.store_attention = True\n",
    "    def get_attention_matrix(self):\n",
    "        res = []\n",
    "        for m in self.modules():\n",
    "            if isinstance(m, (ScaledDotProdAttention)):\n",
    "                attention = getattr(m, 'attention', None)\n",
    "                if attention is not None:\n",
    "                    res.append(attention)\n",
    "                # reset stored attention\n",
    "                m.attention = None\n",
    "                m.store_attention = False\n",
    "        return res"
   ]
  },
  {
   "cell_type": "code",
   "execution_count": null,
   "metadata": {},
   "outputs": [],
   "source": [
    "#export\n",
    "class EncDecMixin:\n",
    "    #TODO add beam search and refactor\n",
    "    @torch.no_grad()\n",
    "    def generate(self, src,\n",
    "                src_mask=None,\n",
    "                max_len=50,\n",
    "                temperature=1.,\n",
    "                method = 'top_k',\n",
    "                top_k = 20,\n",
    "                top_p = 0.9,\n",
    "                early_stopping=False,\n",
    "                bos_idx=2, # TODO change to match future usecases\n",
    "                eos_idx=None):\n",
    "        self.to(src.device) #TODO test for potential problems\n",
    "        self.eval()\n",
    "        thresh = top_k if method=='top_k' else top_p\n",
    "        sampler = _sampler[method]\n",
    "        src = expand_dim1(src)\n",
    "        bs = src.size(0)\n",
    "        inp = src.new_full((bs, 1), bos_idx) #start with bos tokens\n",
    "        src_mask = default(src_mask, self.get_padding_mask(src))\n",
    "        enc = self.encoder(self.enc_emb(src), mask = src_mask)\n",
    "        out = inp\n",
    "        for _ in range(max_len):\n",
    "            x = out[:, -self.max_seq_len:]\n",
    "            dec = self.decoder(self.dec_emb(out), context=enc)\n",
    "            logits = self.proj(dec)[:, -1, :]\n",
    "            if method == 'greedy':\n",
    "                sample = sampler(logits)\n",
    "            else:\n",
    "                filtered_logits = sampler(logits, thresh)\n",
    "                probs = F.softmax(filtered_logits / temperature, dim=-1)\n",
    "                sample = torch.multinomial(probs, 1)\n",
    "\n",
    "            out = torch.cat((out, sample), dim=-1)\n",
    "\n",
    "            if (early_stopping and \n",
    "                ((sample == eos_idx).all() or \n",
    "                (sample == self.pad_idx).all())):\n",
    "                break\n",
    "        #TODO mb output cleanup\n",
    "        return out\n",
    "\n",
    "    def store_attention(self, layer_ids=None, store_encoder=False, store_decoder=True):\n",
    "        #defaults to storing attention for all layers\n",
    "        layer_ids = default(layer_ids, list(range(self.n_enc_layers)))\n",
    "        for module in self.children():\n",
    "            if isinstance(module, TransformerEncoder) and store_encoder:\n",
    "                for i, l in enumerate(module.layers):\n",
    "                    if i in layer_ids:\n",
    "                        for m in l.modules():\n",
    "                            if isinstance(m, (ScaledDotProdAttention)):\n",
    "                                m.store_attention = True\n",
    "            elif isinstance(module, TransformerDecoder) and store_encoder:\n",
    "                for i, l in enumerate(module.layers):\n",
    "                    if i in layer_ids:\n",
    "                        for m in l.modules():\n",
    "                            if isinstance(m, (ScaledDotProdAttention)):\n",
    "                                m.store_attention = True\n",
    "    #TODO mb separate encoder and decoder attention\n",
    "    def get_attention_matrix(self, get_encoder=False, get_decoder=True):\n",
    "        res = []\n",
    "        if get_encoder:\n",
    "            for m in self.encoder.modules():\n",
    "                if isinstance(m, (ScaledDotProdAttention)):\n",
    "                    attention = getattr(m, 'attention', None)\n",
    "                    if attention is not None:\n",
    "                        res.append(attention)\n",
    "                    # reset stored attention\n",
    "                    m.attention = None\n",
    "                    m.store_attention = False\n",
    "        if get_decoder:\n",
    "            for m in self.decoder.modules():\n",
    "                if isinstance(m, (ScaledDotProdAttention)):\n",
    "                    attention = getattr(m, 'attention', None)\n",
    "                    if attention is not None:\n",
    "                        res.append(attention)\n",
    "                    # reset stored attention\n",
    "                    m.attention = None\n",
    "                    m.store_attention = False\n",
    "        return res"
   ]
  },
  {
   "cell_type": "markdown",
   "metadata": {},
   "source": [
    "## Language model"
   ]
  },
  {
   "cell_type": "code",
   "execution_count": null,
   "metadata": {},
   "outputs": [],
   "source": [
    "#export\n",
    "class TransformerLM(nn.Module, LMMixin):\n",
    "    \"\"\"\n",
    "    Basic Transformer for language modelling\n",
    "    Parameters:\n",
    "        * vocab_sz: int\n",
    "        * d_model: int - inner dimension of the model\n",
    "        * n_layers: int (default: 6) \n",
    "        * heads: int (default: 8)\n",
    "        * causal: bool (default: True) - if True does causal masking automatically\n",
    "        * max_seq_len: int (default: 512)\n",
    "        * tie_weights: bool - if True target embedding weights are used for computation output projection\n",
    "        * pos_enc: str from {'absolute', 'fixed', 'axial'} - type of positional encoding to use\n",
    "    Inputs:\n",
    "        * x - input ids, shape [bs, sl]\n",
    "        * mask - optional boolean mask, shape [bs, sl]\n",
    "    Returns:\n",
    "        * logits - target token logits, shape [bs, sl, vocab_sz]\n",
    "    \"\"\"\n",
    "    def __init__(self, vocab_sz, d_model, n_layers=6, heads=8, causal=True,\n",
    "                 max_seq_len=512, tie_weights=True, d_ff=None,\n",
    "                 attn_dropout=0.1, ff_dropout=0.1, emb_dropout=0.1,\n",
    "                 pos_enc='absolute', pad_idx=None, prenorm=False,\n",
    "                 axial_shape=None, axial_emb_dims=None, attn_bias=True):\n",
    "        super().__init__()\n",
    "        self.max_seq_len = max_seq_len\n",
    "        self.n_layers = n_layers\n",
    "        self.pad_idx = pad_idx\n",
    "        self.emb = TransformerEmbedding(vocab_sz, d_model, max_seq_len, dropout=emb_dropout, pos_enc=pos_enc,\n",
    "                                        axial_shape=axial_shape, axial_emb_dims=axial_emb_dims)\n",
    "        self.encoder = TransformerEncoder(d_model, n_layers, heads, causal=causal, d_ff=d_ff, \n",
    "                                       attn_dropout=attn_dropout, ff_dropout=ff_dropout,\n",
    "                                       prenorm=prenorm, attn_bias=attn_bias, final_norm=nn.LayerNorm)\n",
    "        self.proj = nn.Linear(d_model, vocab_sz)\n",
    "        if tie_weights: self.proj.weight = self.emb.emb.weight\n",
    "        \n",
    "    def forward(self, x, mask=None):\n",
    "        x = self.emb(x)\n",
    "        x = self.encoder(x, mask=mask)\n",
    "        return self.proj(x)\n",
    "    "
   ]
  },
  {
   "cell_type": "code",
   "execution_count": null,
   "metadata": {},
   "outputs": [
    {
     "data": {
      "text/plain": [
       "torch.Size([4, 128, 256])"
      ]
     },
     "execution_count": null,
     "metadata": {},
     "output_type": "execute_result"
    }
   ],
   "source": [
    "bs = 4\n",
    "sl = 128\n",
    "d = 64\n",
    "x = torch.randint(256, (bs, sl))\n",
    "model = TransformerLM(256, d, n_layers=2, causal=False)\n",
    "out = model(x)\n",
    "out.shape"
   ]
  },
  {
   "cell_type": "markdown",
   "metadata": {},
   "source": [
    "## Encoder-Decoder model"
   ]
  },
  {
   "cell_type": "code",
   "execution_count": null,
   "metadata": {},
   "outputs": [],
   "source": [
    "#export\n",
    "##TODO test weight tying\n",
    "# Note on weight tying: it's done like here in fastai AWD_LSTM model\n",
    "# Lucidrains does it with custom MatrixMultiply module https://github.com/lucidrains/reformer-pytorch/blob/master/reformer_pytorch/reformer_pytorch.py#L106\n",
    "class Transformer(nn.Module, EncDecMixin):\n",
    "    \"\"\"\n",
    "    Basic Transformer Encoder-Decoder model\n",
    "    Parameters:\n",
    "        * enc_vocab_sz: int - source vocab size \n",
    "        * dec_vocab_sz: int - target vocab size\n",
    "        * d_model: int - inner dimension of the model\n",
    "        * n_layers: int (default: 6) \n",
    "        * heads: int (default: 8)\n",
    "        * max_seq_len: int (default: 512)\n",
    "        * pad_idx: int - padding token id, if pad_idx is provided, and no mask/context_mask are passed to \n",
    "                forward method will be used to generate padding masks\n",
    "        * tie_weights: bool - if True target embedding weights are used for computation output projection\n",
    "        * pos_enc: str from {'absolute', 'fixed', 'axial'} - type of positional encoding to use\n",
    "    Inputs:\n",
    "        * src - source input ids, shape [bs, src_sl]\n",
    "        * tgt - target input ids, shape [bs, tgt_sl]\n",
    "        * src_mask - optional boolean source mask, shape [bs, src_sl]\n",
    "        * tgt_mask - optional boolean target mask, shape [bs, tgt_sl]\n",
    "    Returns:\n",
    "        * logits - target token logits, shape [bs, tgt_sl, tgt_vocab_sz]\n",
    "    \"\"\"\n",
    "    def __init__(self, enc_vocab_sz, dec_vocab_sz, d_model, n_layers=6, heads=8,\n",
    "                 max_seq_len=512, pad_idx=None, tie_weights=True, \n",
    "                 attn_dropout=0.1, ff_dropout=0.1, \n",
    "                 enc_emb_dropout=0.1, dec_emb_dropout=0, #?\n",
    "                 pos_enc='absolute', d_ff=None, prenorm=False, \n",
    "                 axial_shape=None, axial_emb_dims=None,\n",
    "                 comb_attn=False, attn_bias=True, shared_emb=False,\n",
    "                 enc_n_layers=None, dec_n_layers=None):\n",
    "        super().__init__()\n",
    "        self.max_seq_len = max_seq_len\n",
    "        enc_n_layers = default(enc_n_layers, n_layers)\n",
    "        dec_n_layers = default(dec_n_layers, n_layers)\n",
    "        self.pad_idx = pad_idx\n",
    "        \n",
    "        self.enc_emb = TransformerEmbedding(enc_vocab_sz, d_model, max_seq_len, dropout=enc_emb_dropout, pos_enc=pos_enc,\n",
    "                                            axial_shape=axial_shape, axial_emb_dims=axial_emb_dims)\n",
    "        #TODO: test sahred emb\n",
    "        if shared_emb:\n",
    "            assert (enc_vocab_sz == dec_vocab_sz), 'Cannot use shared embedding if enceoder and decoder vocab size are different'\n",
    "            self.dec_emb = self.enc_emb\n",
    "        else:\n",
    "            self.dec_emb = TransformerEmbedding(dec_vocab_sz, d_model, max_seq_len, dropout=dec_emb_dropout, pos_enc=pos_enc,\n",
    "                                                axial_shape=axial_shape, axial_emb_dims=axial_emb_dims)\n",
    "        self.encoder = TransformerEncoder(d_model, enc_n_layers, heads, d_ff=d_ff, attn_dropout=attn_dropout, ff_dropout=ff_dropout,\n",
    "                                          prenorm=prenorm, attn_bias=attn_bias, final_norm=nn.LayerNorm)\n",
    "        self.decoder = TransformerDecoder(d_model, dec_n_layers, heads, d_ff=d_ff, attn_dropout=attn_dropout, ff_dropout=ff_dropout,\n",
    "                                          prenorm=prenorm, comb_attn=comb_attn, attn_bias=attn_bias, final_norm=nn.LayerNorm)\n",
    "        self.proj = nn.Linear(d_model, dec_vocab_sz)\n",
    "        if tie_weights: self.proj.weight = self.dec_emb.emb.weight\n",
    "\n",
    "    def forward(self, src, tgt, src_mask = None, tgt_mask = None):\n",
    "        src_mask = default(src_mask, self.get_padding_mask(src))\n",
    "        tgt_mask = default(tgt_mask, self.get_padding_mask(tgt))\n",
    "        enc = self.encoder(self.enc_emb(src), mask = src_mask)\n",
    "        out = self.decoder(self.dec_emb(tgt), context=enc, mask=tgt_mask, context_mask=src_mask)\n",
    "        return self.proj(out)\n",
    "    def get_padding_mask(self, x):\n",
    "        if self.pad_idx is None: return None\n",
    "        return (x != self.pad_idx)\n",
    "    "
   ]
  },
  {
   "cell_type": "code",
   "execution_count": null,
   "metadata": {},
   "outputs": [
    {
     "data": {
      "text/plain": [
       "torch.Size([4, 80, 256])"
      ]
     },
     "execution_count": null,
     "metadata": {},
     "output_type": "execute_result"
    }
   ],
   "source": [
    "bs = 4\n",
    "src_sl = 70\n",
    "tgt_sl = 80\n",
    "d = 64\n",
    "src_vocab_sz = 256\n",
    "tgt_vocab_sz = 256\n",
    "src = torch.randint(src_vocab_sz, (bs, src_sl))\n",
    "tgt = torch.randint(tgt_vocab_sz, (bs, tgt_sl))\n",
    "model = Transformer(src_vocab_sz, tgt_vocab_sz, d, n_layers=2)\n",
    "out = model(src, tgt)\n",
    "out.shape"
   ]
  },
  {
   "cell_type": "code",
   "execution_count": null,
   "metadata": {},
   "outputs": [
    {
     "name": "stdout",
     "output_type": "stream",
     "text": [
      "Converted 00_core.ipynb.\n",
      "Converted 01_layers.ipynb.\n",
      "Converted 02_models.ipynb.\n",
      "Converted index.ipynb.\n"
     ]
    }
   ],
   "source": [
    "#hide\n",
    "from nbdev.export import notebook2script; notebook2script()"
   ]
  },
  {
   "cell_type": "code",
   "execution_count": null,
   "metadata": {},
   "outputs": [],
   "source": []
  }
 ],
 "metadata": {
  "kernelspec": {
   "display_name": "Python [conda env:torchenv]",
   "language": "python",
   "name": "conda-env-torchenv-py"
  }
 },
 "nbformat": 4,
 "nbformat_minor": 4
}
